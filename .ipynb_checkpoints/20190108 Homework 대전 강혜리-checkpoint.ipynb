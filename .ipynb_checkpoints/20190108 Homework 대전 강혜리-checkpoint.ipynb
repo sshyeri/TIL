{
 "cells": [
  {
   "cell_type": "markdown",
   "metadata": {},
   "source": [
    "## 20190108 Homework"
   ]
  },
  {
   "cell_type": "markdown",
   "metadata": {},
   "source": [
    "1. List는 for 문을 실행하면 모든 요소를 순차적으로 돌면서 반복문을 수행합니다.\n",
    "임의의 리스트 my_list의 값을 하나씩 출력하는 코드를 아래에 작성하시오."
   ]
  },
  {
   "cell_type": "code",
   "execution_count": 1,
   "metadata": {},
   "outputs": [
    {
     "name": "stdout",
     "output_type": "stream",
     "text": [
      "1\n",
      "2\n",
      "3\n",
      "4\n",
      "5\n"
     ]
    }
   ],
   "source": [
    "my_list = [1,2,3,4,5]\n",
    "for i in my_list:\n",
    "    print(i)"
   ]
  },
  {
   "cell_type": "markdown",
   "metadata": {},
   "source": [
    "2. 위에 작성한 코드를 인덱스(index) 값과 함께 출력하는 코드로 변경하시오."
   ]
  },
  {
   "cell_type": "code",
   "execution_count": 2,
   "metadata": {},
   "outputs": [
    {
     "name": "stdout",
     "output_type": "stream",
     "text": [
      "0 1\n",
      "1 2\n",
      "2 3\n",
      "3 4\n",
      "4 5\n"
     ]
    }
   ],
   "source": [
    "for i, value in enumerate(my_list):\n",
    "    print(i,value)"
   ]
  },
  {
   "cell_type": "markdown",
   "metadata": {},
   "source": [
    "3. 딕셔너리는 key, value로 구성되어 있습니다. 따라서, 딕셔너리 my_dict 각각의 상\n",
    "황에 따라 반복문을 수행할 수 있도록 빈칸을 채우시오.\n",
    "\n",
    "key : for key in __________: \n",
    "\n",
    "value : for value in ___________:\n",
    "\n",
    "key와 value : for key, value in _________:\n",
    "\n",
    "-------\n",
    "key : for key in my_dict.keys(): \n",
    "\n",
    "value : for value in my_dict.values():\n",
    "\n",
    "key와 value : for key, value in my_dict.items():"
   ]
  },
  {
   "cell_type": "markdown",
   "metadata": {},
   "source": [
    "4. result에 저장된 값은?\n",
    "\n",
    "def my_func(a, b):\n",
    "\n",
    "c = a + b\n",
    "\n",
    "print(c)\n",
    "\n",
    "result = my_func(1, 5)\n",
    "\n",
    "--------\n",
    "답 : 6"
   ]
  }
 ],
 "metadata": {
  "kernelspec": {
   "display_name": "Python 3",
   "language": "python",
   "name": "python3"
  },
  "language_info": {
   "codemirror_mode": {
    "name": "ipython",
    "version": 3
   },
   "file_extension": ".py",
   "mimetype": "text/x-python",
   "name": "python",
   "nbconvert_exporter": "python",
   "pygments_lexer": "ipython3",
   "version": "3.6.7"
  }
 },
 "nbformat": 4,
 "nbformat_minor": 2
}
