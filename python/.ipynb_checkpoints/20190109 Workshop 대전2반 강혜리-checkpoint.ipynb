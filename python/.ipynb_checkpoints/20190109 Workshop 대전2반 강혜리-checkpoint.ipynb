{
 "cells": [
  {
   "cell_type": "markdown",
   "metadata": {},
   "source": [
    "- 양의 정수 x를 입력 받아 제곱근의 근사값의 결과를 반환하는 함수를 작성하세요.\n",
    "- sqrt() 사용 금지"
   ]
  },
  {
   "cell_type": "code",
   "execution_count": 35,
   "metadata": {},
   "outputs": [],
   "source": [
    "def my_sqrt(n):\n",
    "    i = 1\n",
    "    while i <= n:\n",
    "        if i**2 < n and (i+1)**2 >n : \n",
    "            break\n",
    "        elif i**2 == n:\n",
    "            return i\n",
    "        i+=1\n",
    "    result = [i,i+1]\n",
    "    while result[1]-result[0] > 0.0005:\n",
    "        temp = (sum(result)/2)**2\n",
    "        if temp > n:\n",
    "            result[1] = sum(result)/2\n",
    "        else:\n",
    "            result[0] = sum(result)/2\n",
    "    return (sum(result)/2)"
   ]
  },
  {
   "cell_type": "code",
   "execution_count": 36,
   "metadata": {},
   "outputs": [
    {
     "name": "stdout",
     "output_type": "stream",
     "text": [
      "1.414306640625\n"
     ]
    }
   ],
   "source": [
    "print(my_sqrt(2))"
   ]
  },
  {
   "cell_type": "code",
   "execution_count": 34,
   "metadata": {},
   "outputs": [
    {
     "name": "stdout",
     "output_type": "stream",
     "text": [
      "0.0004882813000000041\n",
      "0.0009765625\n"
     ]
    }
   ],
   "source": [
    "print(1.4145507813 - 1.4140625000)\n",
    "print(1.4150390625 - 1.4140625000)"
   ]
  },
  {
   "cell_type": "code",
   "execution_count": 40,
   "metadata": {},
   "outputs": [],
   "source": [
    "#풀이_김상근\n",
    "def sg_sqrt(n):\n",
    "    a = 0\n",
    "    b = 2*n\n",
    "    for i in range(50):\n",
    "        c = ((a+b) / 2)\n",
    "        if c**2 > n:\n",
    "            b = c\n",
    "        else:\n",
    "            a = c\n",
    "    return (a+b) / 2"
   ]
  },
  {
   "cell_type": "code",
   "execution_count": 42,
   "metadata": {},
   "outputs": [
    {
     "name": "stdout",
     "output_type": "stream",
     "text": [
      "1.414213562373094\n"
     ]
    }
   ],
   "source": [
    "print(sg_sqrt(2))"
   ]
  }
 ],
 "metadata": {
  "kernelspec": {
   "display_name": "Python 3",
   "language": "python",
   "name": "python3"
  },
  "language_info": {
   "codemirror_mode": {
    "name": "ipython",
    "version": 3
   },
   "file_extension": ".py",
   "mimetype": "text/x-python",
   "name": "python",
   "nbconvert_exporter": "python",
   "pygments_lexer": "ipython3",
   "version": "3.6.7"
  }
 },
 "nbformat": 4,
 "nbformat_minor": 2
}
