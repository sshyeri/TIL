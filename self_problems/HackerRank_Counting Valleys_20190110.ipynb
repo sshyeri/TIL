{
 "cells": [
  {
   "cell_type": "markdown",
   "metadata": {},
   "source": [
    "## [HackerRank_Counting Valleys](https://www.hackerrank.com/challenges/counting-valleys/problem)"
   ]
  },
  {
   "cell_type": "markdown",
   "metadata": {},
   "source": [
    "Gary is an avid hiker. He tracks his hikes meticulously, paying close attention to small details like topography. During his last hike he took exactly  steps. For every step he took, he noted if it was an uphill, , or a downhill,  step. Gary's hikes start and end at sea level and each step up or down represents a  unit change in altitude. We define the following terms:\n",
    "\n",
    "- A mountain is a sequence of consecutive steps above sea level, starting with a step up from sea level and ending with a step down to sea level.\n",
    "- A valley is a sequence of consecutive steps below sea level, starting with a step down from sea level and ending with a step up to sea level.\n",
    "\n",
    "Given Gary's sequence of up and down steps during his last hike, find and print the number of valleys he walked through.\n",
    "\n",
    "For example, if Gary's path is , he first enters a valley  units deep. Then he climbs out an up onto a mountain units high. Finally, he returns to sea level and ends his hike.\n",
    "\n",
    "#### Function Description\n",
    "\n",
    "Complete the countingValleys function in the editor below. It must return an integer that denotes the number of valleys Gary traversed.\n",
    "\n",
    "countingValleys has the following parameter(s):\n",
    "\n",
    "- n: the number of steps Gary takes\n",
    "- s: a string describing his path\n",
    "\n",
    "#### Input Format\n",
    "\n",
    "The first line contains an integer , the number of steps in Gary's hike. \n",
    "The second line contains a single string , of  characters that describe his path.\n",
    "\n",
    "#### Constraints\n",
    "2 <= n <= 10**6\n",
    "\n",
    "s[i] in {UD}\n",
    " \n",
    "#### Output Format\n",
    "\n",
    "Print a single integer that denotes the number of valleys Gary walked through during his hike.\n",
    "\n",
    "#### Sample Input\n",
    "\n",
    "8\n",
    "UDDDUDUU\n",
    "\n",
    "#### Sample Output\n",
    "\n",
    "1\n",
    "\n",
    "#### Explanation\n",
    "\n",
    "If we represent _ as sea level, a step up as /, and a step down as \\, Gary's hike can be drawn as:\n",
    "\n",
    "_/\\      _\n",
    "   \\    /\n",
    "    \\/\\/\n",
    "He enters and leaves one valley."
   ]
  },
  {
   "cell_type": "code",
   "execution_count": null,
   "metadata": {},
   "outputs": [],
   "source": [
    "\n",
    "import math\n",
    "import os\n",
    "import random\n",
    "import re\n",
    "import sys\n",
    "\n",
    "# Complete the countingValleys function below.\n",
    "def countingValleys(n, s):\n",
    "    val = map(int, s.replace('D','-1 ').replace('U','1 ').split())\n",
    "    cnt = 0\n",
    "    sum_v = 0\n",
    "    for i in val:\n",
    "        sum_v += i\n",
    "        if sum_v == 0 and i == 1:\n",
    "            cnt += 1\n",
    "    return cnt\n",
    "        \n",
    "    return cnt\n",
    "if __name__ == '__main__':\n",
    "    fptr = open(os.environ['OUTPUT_PATH'], 'w')\n",
    "\n",
    "    n = int(input())\n",
    "\n",
    "    s = input()\n",
    "\n",
    "    result = countingValleys(n, s)\n",
    "\n",
    "    fptr.write(str(result) + '\\n')\n",
    "\n",
    "    fptr.close()\n"
   ]
  }
 ],
 "metadata": {
  "kernelspec": {
   "display_name": "Python 3",
   "language": "python",
   "name": "python3"
  },
  "language_info": {
   "codemirror_mode": {
    "name": "ipython",
    "version": 3
   },
   "file_extension": ".py",
   "mimetype": "text/x-python",
   "name": "python",
   "nbconvert_exporter": "python",
   "pygments_lexer": "ipython3",
   "version": "3.6.7"
  }
 },
 "nbformat": 4,
 "nbformat_minor": 2
}
