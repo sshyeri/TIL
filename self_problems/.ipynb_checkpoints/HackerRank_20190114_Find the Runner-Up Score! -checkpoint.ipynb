{
 "cells": [
  {
   "cell_type": "markdown",
   "metadata": {},
   "source": [
    "Given the participants' score sheet for your University Sports Day, you are required to find the runner-up score. You are given n scores. Store them in a list and find the score of the runner-up.\n",
    "\n",
    "**Input Format**\n",
    "\n",
    "The first line contains n . The second line contains an array  A[]  of n integers each separated by a space.\n",
    "\n",
    "**Constraints**\n",
    "\n",
    "- 2 <= n <=10\n",
    "- -100 <= A[i] <= 100\n",
    "\n",
    "**Output Format**\n",
    "\n",
    "Print the runner-up score.\n",
    "\n",
    "**Sample Input 0**\n",
    "\n",
    "```\n",
    "5\n",
    "2 3 6 6 5\n",
    "```\n",
    "\n",
    "**Sample Output 0**\n",
    "\n",
    "```\n",
    "5\n",
    "```\n",
    "\n",
    "**Explanation 0**\n",
    "\n",
    "Given list is [2, 3, 6, 6, 5]. The maximum score is 6 , second maximum is 5 . Hence, we print  5 as the runner-up score."
   ]
  },
  {
   "cell_type": "code",
   "execution_count": 1,
   "metadata": {},
   "outputs": [
    {
     "name": "stdout",
     "output_type": "stream",
     "text": [
      "5\n",
      "2 3 6 6 5\n",
      "5\n"
     ]
    }
   ],
   "source": [
    "if __name__ == '__main__':\n",
    "    n = int(input())\n",
    "    arr = list(map(int, input().split()))\n",
    "    print(max([x for x in arr if x != max(arr)]))"
   ]
  }
 ],
 "metadata": {
  "kernelspec": {
   "display_name": "Python 3",
   "language": "python",
   "name": "python3"
  },
  "language_info": {
   "codemirror_mode": {
    "name": "ipython",
    "version": 3
   },
   "file_extension": ".py",
   "mimetype": "text/x-python",
   "name": "python",
   "nbconvert_exporter": "python",
   "pygments_lexer": "ipython3",
   "version": "3.6.7"
  }
 },
 "nbformat": 4,
 "nbformat_minor": 2
}
